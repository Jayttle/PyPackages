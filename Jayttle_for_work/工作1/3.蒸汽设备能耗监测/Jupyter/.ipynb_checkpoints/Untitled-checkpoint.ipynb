{
 "cells": [
  {
   "cell_type": "code",
   "execution_count": 9,
   "id": "5af42f6b-19fe-42d0-9f5e-e2d273bd8d54",
   "metadata": {},
   "outputs": [
    {
     "name": "stdout",
     "output_type": "stream",
     "text": [
      "   index            datetime          recipename module module_task  shift  \\\n",
      "0  96836 2024-07-08 06:29:00  24070861D380110000    D38       D3801    1.0   \n",
      "1  96837 2024-07-08 06:29:00  24070861D380110000    D38       D3801    1.0   \n",
      "2  96838 2024-07-08 06:29:00  24070861D380110000    D38       D3801    1.0   \n",
      "3  96839 2024-07-08 06:29:00  24070861D380110000    D38       D3801    1.0   \n",
      "4  96840 2024-07-08 06:29:00  24070861D380110000    D38       D3801    1.0   \n",
      "\n",
      "   team no_gap  A_HT_phase  B_HT_phase  A_HT_steam_total  \\\n",
      "0   3.0  False         0.0         0.0         52366.105   \n",
      "1   3.0  False         0.0         0.0         52366.105   \n",
      "2   3.0  False         0.0         0.0         52366.105   \n",
      "3   3.0  False         0.0         0.0         52366.105   \n",
      "4   3.0  False         0.0         0.0         52366.105   \n",
      "\n",
      "   A_HT_steam_total_blend  B_HT_steam_total  B_HT_steam_total_blend  \\\n",
      "0                     0.0         54786.246                     0.0   \n",
      "1                     0.0         54786.246                     0.0   \n",
      "2                     0.0         54786.246                     0.0   \n",
      "3                     0.0         54786.246                     0.0   \n",
      "4                     0.0         54786.246                     0.0   \n",
      "\n",
      "   TT1142_phase  TT1142_steam_total  TT1142_steam_total_blend  \n",
      "0           0.0            216312.1                       0.0  \n",
      "1           0.0            216312.1                       0.0  \n",
      "2           0.0            216312.1                       0.0  \n",
      "3           0.0            216312.1                       0.0  \n",
      "4           0.0            216312.1                       0.0  \n"
     ]
    }
   ],
   "source": [
    "import pandas as pd\n",
    "\n",
    "dtype_dict = {\n",
    "    'recipename': 'str',  # 假设第1列应该是浮动类型\n",
    "    'module': 'str',    # 假设第2列应该是整数类型\n",
    "    'module_task': 'str'       # 假设第3列应该是字符串类型\n",
    "}\n",
    "df = pd.read_csv(r\"C:\\Users\\juntaox\\Desktop\\工作1\\3.蒸汽设备能耗监测\\原始材料\\energy数据\\energy\\NengYuan_20240706_20240712.csv\", dtype=dtype_dict)\n",
    "df_filtered = df[df['module'] != '0'] # 筛选掉 'module' 为0 的行\n",
    "df_filtered_cleaned = df_filtered.copy()\n",
    "df_filtered_cleaned = df_filtered_cleaned.dropna()# 删除包含 NaN 值的行\n",
    "df_filtered_cleaned['datetime'] = pd.to_datetime(df_filtered_cleaned['datetime'], errors='coerce') # 将 'datetime' 列转换为 pandas 的 datetime 类型\n",
    "df_filtered_cleaned = df_filtered_cleaned.dropna(subset=['datetime']) # 检查是否存在无效的 'datetime' 数据，如果有的话，删除这些行\n",
    "df_filtered_cleaned.reset_index(inplace=True)\n",
    "print(df_filtered_cleaned.head())"
   ]
  },
  {
   "cell_type": "code",
   "execution_count": null,
   "id": "5e6180ab-272e-4fc8-9c5e-27194e52cf63",
   "metadata": {},
   "outputs": [],
   "source": []
  },
  {
   "cell_type": "code",
   "execution_count": null,
   "id": "dab29d2c-d80f-4454-939d-efbe892ff7c6",
   "metadata": {},
   "outputs": [],
   "source": []
  },
  {
   "cell_type": "code",
   "execution_count": null,
   "id": "b3ef2e86-c770-4ef2-a5ef-9099404003d7",
   "metadata": {},
   "outputs": [],
   "source": []
  }
 ],
 "metadata": {
  "kernelspec": {
   "display_name": "Python 3 (ipykernel)",
   "language": "python",
   "name": "python3"
  },
  "language_info": {
   "codemirror_mode": {
    "name": "ipython",
    "version": 3
   },
   "file_extension": ".py",
   "mimetype": "text/x-python",
   "name": "python",
   "nbconvert_exporter": "python",
   "pygments_lexer": "ipython3",
   "version": "3.12.5"
  }
 },
 "nbformat": 4,
 "nbformat_minor": 5
}
