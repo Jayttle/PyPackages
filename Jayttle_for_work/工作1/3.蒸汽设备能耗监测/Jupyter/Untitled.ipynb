{
 "cells": [
  {
   "cell_type": "code",
   "execution_count": null,
   "id": "49545ad8-2a39-4b7e-9ce6-4c41567b757d",
   "metadata": {},
   "outputs": [],
   "source": [
    "import pandas as pd\n",
    "\n",
    "dtype_dict = {\n",
    "    'recipename': 'str',  # 假设第1列应该是浮动类型\n",
    "    'module': 'str',    # 假设第2列应该是整数类型\n",
    "    'module_task': 'str'       # 假设第3列应该是字符串类型\n",
    "}\n",
    "df = pd.read_csv(r\"C:\\Users\\juntaox\\Desktop\\工作1\\3.蒸汽设备能耗监测\\原始材料\\energy数据\\energy\\NengYuan_20240706_20240712.csv\", dtype=dtype_dict)\n",
    "df_filtered = df[df['module'] != '0'] # 筛选掉 'module' 为0 的行\n",
    "df_filtered_cleaned = df_filtered.copy()\n",
    "df_filtered_cleaned = df_filtered_cleaned.dropna()# 删除包含 NaN 值的行\n",
    "df_filtered_cleaned['datetime'] = pd.to_datetime(df_filtered_cleaned['datetime'], errors='coerce') # 将 'datetime' 列转换为 pandas 的 datetime 类型\n",
    "df_filtered_cleaned = df_filtered_cleaned.dropna(subset=['datetime']) # 检查是否存在无效的 'datetime' 数据，如果有的话，删除这些行\n",
    "df_filtered_cleaned.reset_index(inplace=True)\n",
    "print(df_filtered_cleaned.head())"
   ]
  },
  {
   "cell_type": "code",
   "execution_count": null,
   "id": "9bba3b06-00fc-4757-852f-5980b3787e84",
   "metadata": {},
   "outputs": [],
   "source": []
  },
  {
   "cell_type": "code",
   "execution_count": null,
   "id": "dab29d2c-d80f-4454-939d-efbe892ff7c6",
   "metadata": {},
   "outputs": [],
   "source": []
  },
  {
   "cell_type": "code",
   "execution_count": null,
   "id": "b3ef2e86-c770-4ef2-a5ef-9099404003d7",
   "metadata": {},
   "outputs": [],
   "source": []
  }
 ],
 "metadata": {
  "kernelspec": {
   "display_name": "Python 3 (ipykernel)",
   "language": "python",
   "name": "python3"
  },
  "language_info": {
   "codemirror_mode": {
    "name": "ipython",
    "version": 3
   },
   "file_extension": ".py",
   "mimetype": "text/x-python",
   "name": "python",
   "nbconvert_exporter": "python",
   "pygments_lexer": "ipython3",
   "version": "3.12.5"
  }
 },
 "nbformat": 4,
 "nbformat_minor": 5
}
